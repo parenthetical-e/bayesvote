{
 "metadata": {
  "language_info": {
   "codemirror_mode": {
    "name": "ipython",
    "version": 3
   },
   "file_extension": ".py",
   "mimetype": "text/x-python",
   "name": "python",
   "nbconvert_exporter": "python",
   "pygments_lexer": "ipython3",
   "version": "3.6.7"
  },
  "orig_nbformat": 2,
  "kernelspec": {
   "name": "python367jvsc74a57bd05c0fa7a4f8f1487a2aac67eb43e7b2e553808a81f9be50af9e1ab194481cfe22",
   "display_name": "Python 3.6.7 64-bit"
  }
 },
 "nbformat": 4,
 "nbformat_minor": 2,
 "cells": [
  {
   "cell_type": "code",
   "execution_count": 5,
   "metadata": {},
   "outputs": [
    {
     "output_type": "stream",
     "name": "stdout",
     "text": [
      "The nb_black extension is already loaded. To reload it, use:\n  %reload_ext nb_black\nThe autoreload extension is already loaded. To reload it, use:\n  %reload_ext autoreload\n"
     ]
    },
    {
     "output_type": "display_data",
     "data": {
      "text/plain": "<IPython.core.display.Javascript object>",
      "application/javascript": "\n            setTimeout(function() {\n                var nbb_cell_id = 5;\n                var nbb_unformatted_code = \"import numpy as np\\nimport pandas as pd\\nimport seaborn as sns\\nimport matplotlib.pyplot as plt\\nfrom scipy.stats import norm\\n\\nfrom bdcode.dist import TargetDensity\\n\\n# Pretty plots\\n%matplotlib inline\\n%config InlineBackend.figure_format='retina'\\n%config IPCompleter.greedy=True\\n\\nplt.rcParams[\\\"axes.facecolor\\\"] = \\\"white\\\"\\nplt.rcParams[\\\"figure.facecolor\\\"] = \\\"white\\\"\\nplt.rcParams[\\\"font.size\\\"] = \\\"16\\\"\\n\\n# Uncomment for local development\\n%load_ext nb_black\\n%load_ext autoreload\\n%autoreload 2\";\n                var nbb_formatted_code = \"import numpy as np\\nimport pandas as pd\\nimport seaborn as sns\\nimport matplotlib.pyplot as plt\\nfrom scipy.stats import norm\\n\\nfrom bdcode.dist import TargetDensity\\n\\n# Pretty plots\\n%matplotlib inline\\n%config InlineBackend.figure_format='retina'\\n%config IPCompleter.greedy=True\\n\\nplt.rcParams[\\\"axes.facecolor\\\"] = \\\"white\\\"\\nplt.rcParams[\\\"figure.facecolor\\\"] = \\\"white\\\"\\nplt.rcParams[\\\"font.size\\\"] = \\\"16\\\"\\n\\n# Uncomment for local development\\n%load_ext nb_black\\n%load_ext autoreload\\n%autoreload 2\";\n                var nbb_cells = Jupyter.notebook.get_cells();\n                for (var i = 0; i < nbb_cells.length; ++i) {\n                    if (nbb_cells[i].input_prompt_number == nbb_cell_id) {\n                        if (nbb_cells[i].get_text() == nbb_unformatted_code) {\n                             nbb_cells[i].set_text(nbb_formatted_code);\n                        }\n                        break;\n                    }\n                }\n            }, 500);\n            "
     },
     "metadata": {}
    }
   ],
   "source": [
    "import numpy as np\n",
    "import pandas as pd\n",
    "import seaborn as sns\n",
    "import matplotlib.pyplot as plt\n",
    "from scipy.stats import norm\n",
    "\n",
    "from bdcode.dist import TargetDensity\n",
    "\n",
    "# Pretty plots\n",
    "%matplotlib inline\n",
    "%config InlineBackend.figure_format='retina'\n",
    "%config IPCompleter.greedy=True\n",
    "\n",
    "plt.rcParams[\"axes.facecolor\"] = \"white\"\n",
    "plt.rcParams[\"figure.facecolor\"] = \"white\"\n",
    "plt.rcParams[\"font.size\"] = \"16\"\n",
    "\n",
    "# Uncomment for local development\n",
    "%load_ext nb_black\n",
    "%load_ext autoreload\n",
    "%autoreload 2"
   ]
  },
  {
   "cell_type": "code",
   "execution_count": 14,
   "metadata": {},
   "outputs": [
    {
     "output_type": "execute_result",
     "data": {
      "text/plain": [
       "dict_keys([('cat', 0), ('dog', 0)])"
      ]
     },
     "metadata": {},
     "execution_count": 14
    },
    {
     "output_type": "display_data",
     "data": {
      "text/plain": "<IPython.core.display.Javascript object>",
      "application/javascript": "\n            setTimeout(function() {\n                var nbb_cell_id = 14;\n                var nbb_unformatted_code = \"N = 100\\nX = np.concatenate(\\n    (np.random.normal(0, 1, int(0.3 * N)),\\n    np.random.normal(5, 1, int(0.7 * N)))\\n)[:,np.newaxis]\\ny = np.random.choice([\\\"cat\\\", \\\"dog\\\"], size=N)\\n\\nkde = TargetDensity()\\nkde.fit(X, y)\\n\\nkde._lookup.keys()\";\n                var nbb_formatted_code = \"N = 100\\nX = np.concatenate(\\n    (np.random.normal(0, 1, int(0.3 * N)), np.random.normal(5, 1, int(0.7 * N)))\\n)[:, np.newaxis]\\ny = np.random.choice([\\\"cat\\\", \\\"dog\\\"], size=N)\\n\\nkde = TargetDensity()\\nkde.fit(X, y)\\n\\nkde._lookup.keys()\";\n                var nbb_cells = Jupyter.notebook.get_cells();\n                for (var i = 0; i < nbb_cells.length; ++i) {\n                    if (nbb_cells[i].input_prompt_number == nbb_cell_id) {\n                        if (nbb_cells[i].get_text() == nbb_unformatted_code) {\n                             nbb_cells[i].set_text(nbb_formatted_code);\n                        }\n                        break;\n                    }\n                }\n            }, 500);\n            "
     },
     "metadata": {}
    }
   ],
   "source": [
    "N = 100\n",
    "X = np.concatenate(\n",
    "    (np.random.normal(0, 1, int(0.3 * N)),\n",
    "    np.random.normal(5, 1, int(0.7 * N)))\n",
    ")[:,np.newaxis]\n",
    "y = np.random.choice([\"cat\", \"dog\"], size=N)\n",
    "\n",
    "kde = TargetDensity()\n",
    "kde.fit(X, y)\n",
    "\n",
    "kde._lookup.keys()"
   ]
  },
  {
   "cell_type": "code",
   "execution_count": 21,
   "metadata": {},
   "outputs": [
    {
     "output_type": "stream",
     "name": "stdout",
     "text": [
      "[[0.02328326]\n [0.09446989]\n [0.07013876]\n [0.07306666]\n [0.05983529]\n [0.07784992]\n [0.05844856]\n [0.09784431]\n [0.09767887]\n [0.04278436]\n [0.09554459]\n [0.09787205]\n [0.09786745]\n [0.05863908]\n [0.07370041]\n [0.09533243]\n [0.09595914]\n [0.09393312]\n [0.07345799]\n [0.08727562]\n [0.07798821]\n [0.06507637]\n [0.08677125]\n [0.10630602]\n [0.09466891]\n [0.07630552]\n [0.07923403]\n [0.06110758]\n [0.05563868]\n [0.08254409]\n [0.1946518 ]\n [0.21654129]\n [0.21308861]\n [0.10374566]\n [0.20441382]\n [0.12078581]\n [0.17030938]\n [0.1372431 ]\n [0.21198854]\n [0.21605493]\n [0.1694167 ]\n [0.20515666]\n [0.19388513]\n [0.2152618 ]\n [0.17392322]\n [0.21282624]\n [0.195769  ]\n [0.20170569]\n [0.17965795]\n [0.13601624]\n [0.205376  ]\n [0.20535868]\n [0.19566014]\n [0.18915108]\n [0.1208091 ]\n [0.20635187]\n [0.20101968]\n [0.2016328 ]\n [0.2029495 ]\n [0.08871819]\n [0.17459936]\n [0.05775033]\n [0.21649368]\n [0.1880298 ]\n [0.19927285]\n [0.20392431]\n [0.21308428]\n [0.19634765]\n [0.17450057]\n [0.14526688]\n [0.19572507]\n [0.21700159]\n [0.20233475]\n [0.1344502 ]\n [0.13803035]\n [0.20372119]\n [0.08998825]\n [0.17837856]\n [0.18213285]\n [0.15355149]\n [0.19233237]\n [0.1339096 ]\n [0.20521807]\n [0.150431  ]\n [0.19853087]\n [0.19596318]\n [0.20352852]\n [0.17887235]\n [0.17328594]\n [0.21670771]\n [0.08852835]\n [0.16806893]\n [0.20434152]\n [0.21492884]\n [0.20454054]\n [0.21586351]\n [0.03500898]\n [0.17461747]\n [0.18976661]\n [0.17027171]]\n"
     ]
    },
    {
     "output_type": "display_data",
     "data": {
      "text/plain": "<IPython.core.display.Javascript object>",
      "application/javascript": "\n            setTimeout(function() {\n                var nbb_cell_id = 21;\n                var nbb_unformatted_code = \"X_plot = np.linspace(-5, 10, 1000)[:, np.newaxis]\\nX_true = (\\n    0.3 * norm(0, 1).pdf(X_plot[:, 0]) + \\n    0.7 * norm(5, 1).pdf(X_plot[:, 0])\\n)\\n\\nX_probs = kde.probs(X, y)\\nprint(X_probs)\";\n                var nbb_formatted_code = \"X_plot = np.linspace(-5, 10, 1000)[:, np.newaxis]\\nX_true = 0.3 * norm(0, 1).pdf(X_plot[:, 0]) + 0.7 * norm(5, 1).pdf(X_plot[:, 0])\\n\\nX_probs = kde.probs(X, y)\\nprint(X_probs)\";\n                var nbb_cells = Jupyter.notebook.get_cells();\n                for (var i = 0; i < nbb_cells.length; ++i) {\n                    if (nbb_cells[i].input_prompt_number == nbb_cell_id) {\n                        if (nbb_cells[i].get_text() == nbb_unformatted_code) {\n                             nbb_cells[i].set_text(nbb_formatted_code);\n                        }\n                        break;\n                    }\n                }\n            }, 500);\n            "
     },
     "metadata": {}
    }
   ],
   "source": [
    "X_plot = np.linspace(-5, 10, 1000)[:, np.newaxis]\n",
    "X_true = (\n",
    "    0.3 * norm(0, 1).pdf(X_plot[:, 0]) + \n",
    "    0.7 * norm(5, 1).pdf(X_plot[:, 0])\n",
    ")\n",
    "\n",
    "X_probs = kde.probs(X, y)\n",
    "print(X_probs)"
   ]
  },
  {
   "cell_type": "code",
   "execution_count": null,
   "metadata": {},
   "outputs": [],
   "source": []
  }
 ]
}